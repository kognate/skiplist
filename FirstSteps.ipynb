{
 "cells": [
  {
   "cell_type": "code",
   "execution_count": 1,
   "metadata": {},
   "outputs": [],
   "source": [
    "import json\n",
    "from PIL import Image, ImageDraw\n",
    "from pathlib import Path\n",
    "import base64\n",
    "import hashlib\n",
    "import io\n",
    "from dotenv import load_dotenv\n",
    "import boto3\n",
    "import pymongo\n",
    "import os\n",
    "from bson import ObjectId"
   ]
  },
  {
   "cell_type": "markdown",
   "metadata": {},
   "source": [
    "# Add the Path to the data file\n",
    "\n",
    "If you want to use a different data file,  you'll need to specify the path to that below.  I'm using the `data.json`\n",
    "file provided in the README."
   ]
  },
  {
   "cell_type": "code",
   "execution_count": 2,
   "metadata": {},
   "outputs": [],
   "source": [
    "DATAFILEPATH='./data.json'\n",
    "p = Path(DATAFILEPATH)\n",
    "with p.open() as d:\n",
    "    data = json.loads(d.read())"
   ]
  },
  {
   "cell_type": "markdown",
   "metadata": {},
   "source": [
    "# Support is here for jpegs\n",
    "\n",
    "Any other type of image will throw an exception."
   ]
  },
  {
   "cell_type": "code",
   "execution_count": 3,
   "metadata": {},
   "outputs": [],
   "source": [
    "def getheaderbytes(payload):\n",
    "    header, dbytes = payload.get('image',\"None,None\").split(',')\n",
    "    if header == 'data:image/jpeg;base64':\n",
    "        decoded = base64.decodebytes(dbytes.encode('ascii'))\n",
    "        return header, decoded\n",
    "    else:\n",
    "        raise ValueError(f'Unknown image type: {header}')\n",
    "\n",
    "def drawrects(payload):\n",
    "    header, decoded = getheaderbytes(payload)\n",
    "    img = Image.open(io.BytesIO(decoded))\n",
    "\n",
    "    for coords in payload.get('canines', []):\n",
    "        draw = ImageDraw.Draw(img)\n",
    "        start, end = coords.get('coordinates')\n",
    "        draw.rectangle(((start[0], start[1]), (end[0], end[1])), outline='#ff0000')\n",
    "    return img"
   ]
  },
  {
   "cell_type": "code",
   "execution_count": 4,
   "metadata": {},
   "outputs": [],
   "source": [
    "def writeout(payload):\n",
    "    img = drawrects(payload)\n",
    "    outbuf = io.BytesIO()\n",
    "    img.save(outbuf, format=\"jpeg\")\n",
    "    outbuf.seek(0)\n",
    "    return outbuf"
   ]
  },
  {
   "cell_type": "markdown",
   "metadata": {},
   "source": [
    "# .env setup required\n",
    "\n",
    "You'll need to create a file named `.env` containing the following:\n",
    "\n",
    "<pre>\n",
    "  MONGO_URL=\"&lt;the mongo url with username and password for the mongodb&gt;\"\n",
    "  MONGO_DB_NAME=\"&lt;the name of the database you want to use&gt;\"\n",
    "  S3_BUCKET=\"&lt;the s3 bucket you want to use, it should already be created and setup to allow website access&gt;\"\n",
    "</pre>\n",
    "\n",
    "This `.env` file will be read by the following code and use to pre-process the images. The mongo database and collection (`dogs`)\n",
    "will have the appropriate data written to it for the server/client application.  This code converts the \n",
    "image data and draws the appropriate rectangles and then uploads the images to s3. The document containing\n",
    "the image endpoint and the consolidated data is written to mongo.  This operation may be time consuming\n",
    "if the number of images is large.  "
   ]
  },
  {
   "cell_type": "code",
   "execution_count": 5,
   "metadata": {},
   "outputs": [],
   "source": [
    "load_dotenv()\n",
    "dbclient = pymongo.MongoClient(os.getenv('MONGO_URL'))\n",
    "db = dbclient[os.getenv('MONGO_DB_NAME')]\n",
    "col = db.dogs\n",
    "\n",
    "def save_to_s3(payload, bucket, objectname):\n",
    "    client = boto3.client('s3')\n",
    "    img_data = writeout(payload)\n",
    "    client.put_object(Bucket=bucket,\n",
    "                      Body=img_data,\n",
    "                      Key=f'{objectname}.jpg',\n",
    "                      ContentType='application/jpeg',  \n",
    "                      ACL='public-read')\n",
    "\n",
    "    return f'https://{bucket}.s3.amazonaws.com/{objectname}.jpg'\n",
    "\n",
    "def consolidate_found_canines(payload):\n",
    "    counter = {}\n",
    "    for dog in payload.get('canines',[]):\n",
    "        sub = counter.setdefault(dog.get('type', 'Unknown'), {})\n",
    "        age_item = dog.get('age','Unknown')\n",
    "        counts = sub.setdefault(age_item, 0)\n",
    "        counts = counts + 1\n",
    "        sub[age_item] = counts\n",
    "    acc = []\n",
    "    for k in counter.keys():\n",
    "        for j in counter[k].keys():\n",
    "            acc.append((k,j,counter[k][j]))\n",
    "    return acc\n",
    "\n",
    "def save_to_mongo(payload):\n",
    "    try:\n",
    "        consolidated = consolidate_found_canines(payload)\n",
    "        saved_data = dict(title=payload['title'], canines=consolidated)\n",
    "        oid = col.insert_one(saved_data)\n",
    "        img_url = save_to_s3(payload, os.getenv('S3_BUCKET'), str(oid.inserted_id))\n",
    "        saved_data['img_url'] = img_url\n",
    "        col.update_one({\"_id\": oid.inserted_id}, {\"$set\": saved_data})\n",
    "    except ValueError:\n",
    "        print(\"Failed to import payload, is it a JPG?\")\n",
    "        print(payload)"
   ]
  },
  {
   "cell_type": "markdown",
   "metadata": {},
   "source": [
    "# Import the data\n",
    "\n",
    "The next cell runs through all elements in the datafile and loads the data into mongo. This could take a while if there are many \n",
    "images.  "
   ]
  },
  {
   "cell_type": "code",
   "execution_count": 6,
   "metadata": {},
   "outputs": [],
   "source": [
    "for i in data:\n",
    "    save_to_mongo(i)"
   ]
  },
  {
   "cell_type": "markdown",
   "metadata": {},
   "source": [
    "# Verify The Data\n",
    "\n",
    "This is a crude verification step.  Do NOT run this if you've imported a lot of images.  "
   ]
  },
  {
   "cell_type": "code",
   "execution_count": 7,
   "metadata": {},
   "outputs": [
    {
     "name": "stdout",
     "output_type": "stream",
     "text": [
      "[\n",
      "  {\n",
      "    \"_id\": \"5c982778fd519c7f17c2fd6b\",\n",
      "    \"title\": \"690566_640.jpg\",\n",
      "    \"canines\": [\n",
      "      [\n",
      "        \"Pug\",\n",
      "        \"Puppy\",\n",
      "        1\n",
      "      ]\n",
      "    ],\n",
      "    \"img_url\": \"https://s3.us-east-2.amazonaws.com/sltakehome/5c982778fd519c7f17c2fd6b.jpg\"\n",
      "  },\n",
      "  {\n",
      "    \"_id\": \"5c982778fd519c7f17c2fd6c\",\n",
      "    \"title\": \"1785760_640.jpg\",\n",
      "    \"canines\": [\n",
      "      [\n",
      "        \"Rottweiler\",\n",
      "        \"Puppy\",\n",
      "        2\n",
      "      ]\n",
      "    ],\n",
      "    \"img_url\": \"https://s3.us-east-2.amazonaws.com/sltakehome/5c982778fd519c7f17c2fd6c.jpg\"\n",
      "  },\n",
      "  {\n",
      "    \"_id\": \"5c982779fd519c7f17c2fd6d\",\n",
      "    \"title\": \"76395_640.jpg\",\n",
      "    \"canines\": [\n",
      "      [\n",
      "        \"Samoyed\",\n",
      "        \"Adult\",\n",
      "        1\n",
      "      ],\n",
      "      [\n",
      "        \"Rough Collie\",\n",
      "        \"Adult\",\n",
      "        1\n",
      "      ],\n",
      "      [\n",
      "        \"Great Dane\",\n",
      "        \"Adult\",\n",
      "        1\n",
      "      ]\n",
      "    ],\n",
      "    \"img_url\": \"https://s3.us-east-2.amazonaws.com/sltakehome/5c982779fd519c7f17c2fd6d.jpg\"\n",
      "  },\n",
      "  {\n",
      "    \"_id\": \"5c98277afd519c7f17c2fd6e\",\n",
      "    \"title\": \"3602558_640.jpg\",\n",
      "    \"canines\": [],\n",
      "    \"img_url\": \"https://s3.us-east-2.amazonaws.com/sltakehome/5c98277afd519c7f17c2fd6e.jpg\"\n",
      "  }\n",
      "]\n"
     ]
    }
   ],
   "source": [
    "class MongoEncoder(json.JSONEncoder):\n",
    "\n",
    "    def default(self, obj):\n",
    "        try:\n",
    "            if isinstance(obj, ObjectId):\n",
    "                return str(obj)\n",
    "            iterable = iter(obj)\n",
    "        except TypeError:\n",
    "            pass\n",
    "        else:\n",
    "            return list(iterable)\n",
    "        return JSONEncoder.default(self, obj)\n",
    "\n",
    "print(json.dumps([x for x in col.find({})], indent=2, cls=MongoEncoder))"
   ]
  },
  {
   "cell_type": "code",
   "execution_count": null,
   "metadata": {},
   "outputs": [],
   "source": []
  }
 ],
 "metadata": {
  "kernelspec": {
   "display_name": "Python 3",
   "language": "python",
   "name": "python3"
  },
  "language_info": {
   "codemirror_mode": {
    "name": "ipython",
    "version": 3
   },
   "file_extension": ".py",
   "mimetype": "text/x-python",
   "name": "python",
   "nbconvert_exporter": "python",
   "pygments_lexer": "ipython3",
   "version": "3.6.5"
  }
 },
 "nbformat": 4,
 "nbformat_minor": 2
}
